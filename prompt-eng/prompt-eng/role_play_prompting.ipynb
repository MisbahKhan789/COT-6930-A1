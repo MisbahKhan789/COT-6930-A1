{
 "cells": [
  {
   "cell_type": "markdown",
   "metadata": {},
   "source": [
    "\n",
    "\n"
   ]
  },
  {
   "cell_type": "markdown",
   "metadata": {},
   "source": [
    "# Role-playing Prompting\n",
    "Role-playing is a prompt engineering technique where the AI is instructed to take on a specific role, persona, or point of view. This method enhances contextual understanding, creativity, and realism by making responses more tailored to a specific situation or expertise level.\n",
    "\n",
    "In prompt engineering, role-playing is commonly used to:\n",
    "\n",
    "- Simulate expert advice (e.g., \"You are a cybersecurity specialist analyzing a potential breach\").\n",
    "- Generate more persuasive or immersive responses (e.g., \"You are a historian explaining the impact of the Renaissance to a 10-year-old\").\n",
    "- Encourage deeper analysis by considering perspectives (e.g., \"You are a skeptical investor evaluating a new AI startup\").\n",
    "- Improve engagement in interactive applications, such as chatbots or tutoring systems.\n",
    "\n",
    "Key Advantages of Role-Playing in Prompt Engineering:\n",
    "\n",
    "- Increases Context Awareness: Helps the model generate responses aligned with the desired expertise, tone, and depth.\n",
    "- Enhances Creativity & Realism: Makes AI outputs more engaging, structured, and scenario-specific.\n",
    "- Improves Instruction Following: Ensures the AI stays within the requested persona, improving the relevance of responses.\n",
    "- Useful for Simulations & Training: Facilitates realistic dialogues for customer service, education, and training simulations.\n",
    "\n",
    "\n",
    "\n",
    "## References:\n",
    "\n",
    "* Brown, T., et al. (2020). \"Language Models are Few-Shot Learners.\" [https://arxiv.org/abs/2005.14165]\n",
    "* Reynolds, L., & McDonell, K. (2021). \"Prompt Programming for Large Language Models: Beyond the Few-Shot Paradigm.\" [https://arxiv.org/abs/2102.07350]\n",
    "* OpenAI Documentation: Best Practices for Prompt Engineering [https://platform.openai.com/docs/guides/prompt-engineering]"
   ]
  },
  {
   "cell_type": "markdown",
   "metadata": {},
   "source": [
    "## Running this code on MyBind.org\n",
    "\n",
    "Note: remember that you will need to **adjust CONFIG** with **proper URL and API_KEY**!\n",
    "\n",
    "[![Binder](https://mybinder.org/badge_logo.svg)](https://mybinder.org/v2/gh/GenILab-FAU/prompt-eng/HEAD?urlpath=%2Fdoc%2Ftree%2Fprompt-eng%2Fchain_of_thought.ipynb)\n"
   ]
  },
  {
   "cell_type": "code",
   "execution_count": 7,
   "metadata": {},
   "outputs": [
    {
     "name": "stdout",
     "output_type": "stream",
     "text": [
      "I completely understand your skepticism about automation, but I'd like to share with you why I believe it's essential for designing a successful Study Companion Bot for Discord. Automation can be a game-changer in chatbot development, and I'd like to walk you through the benefits.\n",
      "\n",
      "Firstly, let's talk about requirement analysis. Manual analysis is time-consuming and prone to human error. When we rely on humans to analyze requirements, there's always a risk of misinterpretation or overlooking crucial details. Automation can help mitigate this by extracting data from various sources, such as user feedback, chat logs, and existing documentation. This allows us to identify patterns, trends, and insights that might have gone unnoticed manually.\n",
      "\n",
      "For instance, we could use natural language processing (NLP) techniques to analyze user conversations and extract relevant information about their learning needs, preferences, and pain points. By automating this process, we can gain a deeper understanding of our users' behavior and create a more personalized experience for them.\n",
      "\n",
      "Another key benefit of automation is the ability to refine chatbot functionality through adaptive learning loops. These loops allow us to continuously learn from user interactions and adjust the bot's responses accordingly. This means that our Study Companion Bot can improve its performance over time, providing a better experience for users as they engage with it more frequently.\n",
      "\n",
      "Now, I know you might be thinking, \"But what about the risks of automation? Won't we lose control over the chatbot's behavior?\" The answer is no. Automation doesn't mean we're losing control; it means we're gaining precision and scalability. By automating certain tasks, we can focus on high-level strategic decisions that require human judgment and creativity.\n",
      "\n",
      "For example, we could use machine learning algorithms to identify areas where users need additional support or resources. This would allow us to provide more targeted guidance and recommendations, rather than relying solely on manual analysis.\n",
      "\n",
      "So, how do we implement an automated requirement analysis system? Here's a step-by-step approach:\n",
      "\n",
      "1. **Data Collection**: Gather relevant data from various sources, such as user feedback, chat logs, and existing documentation.\n",
      "2. **Data Preprocessing**: Clean and preprocess the data to ensure it's in a format that can be analyzed by our algorithms.\n",
      "3. **NLP Analysis**: Use NLP techniques to extract insights and patterns from the preprocessed data.\n",
      "4. **Machine Learning Model Training**: Train machine learning models on the extracted data to identify trends, correlations, and predictive patterns.\n",
      "5. **Adaptive Learning Loop**: Implement an adaptive learning loop that allows our Study Companion Bot to continuously learn from user interactions and adjust its responses accordingly.\n",
      "\n",
      "By following this approach, we can create a highly effective automated requirement analysis system that provides us with actionable insights and enables us to refine our chatbot's functionality over time.\n",
      "\n",
      "In terms of long-term benefits, automation will enable us to:\n",
      "\n",
      "* Scale our Study Companion Bot more efficiently\n",
      "* Provide a more personalized experience for users\n",
      "* Continuously improve the bot's performance through adaptive learning loops\n",
      "* Reduce manual analysis time and errors\n",
      "\n",
      "I believe that automation is essential for designing a successful Study Companion Bot. By leveraging automated data extraction, NLP-driven insights, and adaptive learning loops, we can create a chatbot that truly supports students' learning needs. I'd be happy to discuss this further and explore how we can implement an automated requirement analysis system that meets your goals and objectives.\n",
      "Time taken: 37.688s\n"
     ]
    }
   ],
   "source": [
    "##\n",
    "## role_play PROMPTING\n",
    "##\n",
    "\n",
    "from _pipeline import create_payload, model_req\n",
    "\n",
    "\n",
    "#### (1) Adjust the inbounding  Prompt, simulating inbounding requests from users or other systems\n",
    "#MESSAGE = \"200\"\n",
    "\n",
    "#### (2) Adjust the Prompt Engineering Technique to be applied, simulating Workflow Templates\n",
    "role_play = f\"\"\"\n",
    "You are an AI-driven automation consultant hired by a major EdTech company to design an intelligent Study Companion Bot for Discord. Your client is skeptical about automation and requires a convincing argument for its benefits.\n",
    "\n",
    "Engage in a conversation where you act as the consultant explaining:\n",
    "- Why automation is essential for requirement analysis in chatbot development.\n",
    "- How automated data extraction, NLP-driven insights, and adaptive learning loops can refine chatbot functionality.\n",
    "- The risks of manual requirement analysis and how automation mitigates them.\n",
    "- A step-by-step approach to implementing an automated requirement analysis system.\n",
    "\n",
    "Your response should persuade the client by addressing their concerns and demonstrating the long-term benefits of automation in chatbot design.\n",
    "\"\"\"\n",
    "\n",
    "PROMPT = role_play \n",
    "\n",
    "\n",
    "#### (3) Configure the Model request, simulating Workflow Orchestration\n",
    "# Documentation: https://github.com/ollama/ollama/blob/main/docs/api.md\n",
    "payload = create_payload(target=\"ollama\",\n",
    "                         model=\"llama3.2:latest\", \n",
    "                         prompt=PROMPT, \n",
    "                         temperature=0, \n",
    "                         num_ctx=8192, \n",
    "                         num_predict=8192)\n",
    "\n",
    "### YOU DONT NEED TO CONFIGURE ANYTHING ELSE FROM THIS POINT\n",
    "# Send out to the model\n",
    "time, response = model_req(payload=payload)\n",
    "print(response)\n",
    "if time: print(f'Time taken: {time}s')"
   ]
  },
  {
   "cell_type": "code",
   "execution_count": 2,
   "metadata": {},
   "outputs": [],
   "source": []
  }
 ],
 "metadata": {
  "kernelspec": {
   "display_name": "conda_python3",
   "language": "python",
   "name": "conda_python3"
  },
  "language_info": {
   "codemirror_mode": {
    "name": "ipython",
    "version": 3
   },
   "file_extension": ".py",
   "mimetype": "text/x-python",
   "name": "python",
   "nbconvert_exporter": "python",
   "pygments_lexer": "ipython3",
   "version": "3.10.16"
  }
 },
 "nbformat": 4,
 "nbformat_minor": 2
}
