{
 "cells": [
  {
   "cell_type": "markdown",
   "metadata": {},
   "source": [
    "\n",
    "\n"
   ]
  },
  {
   "cell_type": "markdown",
   "metadata": {},
   "source": [
    "# Zero-Shot Prompting\n",
    "\n",
    "Zero-shot prompting refers to a technique in prompt engineering where you provide a model with a task without any prior examples. The model is expected to understand and generate a response or complete the task purely based on the given instruction.\n",
    "\n",
    "In other words, the model is given \"zero\" prior training examples or demonstrations in the prompt and relies on its pre-trained knowledge to infer what is needed.\n",
    "\n",
    "## References:\n",
    "* [Wei et al. (2022)](https://arxiv.org/pdf/2109.01652.pdf): demonstrate how instruction tuning improves zero-shot learning "
   ]
  },
  {
   "cell_type": "markdown",
   "metadata": {},
   "source": [
    "## Running this code on MyBind.org\n",
    "\n",
    "Note: remember that you will need to **adjust CONFIG** with **proper URL and API_KEY**!\n",
    "\n",
    "[![Binder](https://mybinder.org/badge_logo.svg)](https://mybinder.org/v2/gh/GenILab-FAU/prompt-eng/HEAD?urlpath=%2Fdoc%2Ftree%2Fprompt-eng%2Fzero_shot.ipynb)\n",
    "\n"
   ]
  },
  {
   "cell_type": "code",
   "execution_count": 2,
   "metadata": {},
   "outputs": [
    {
     "name": "stdout",
     "output_type": "stream",
     "text": [
      "Automating the process of requirement analysis for the Study Companion Bot involves several steps:\n",
      "\n",
      "1. **Define Requirements Gathering Methodologies**: Identify suitable methodologies such as interviews, surveys, user testing, and review of existing documentation to gather requirements from students, teachers, and subject matter experts.\n",
      "\n",
      "2. **Create a Requirements Collection Template**: Develop a template that captures essential information about the bot's functionality, including its capabilities, limitations, and potential areas for improvement.\n",
      "\n",
      "3. **Automate Data Collection Tools**: Utilize tools like Google Forms, JotForm, or SurveyMonkey to create an online form where students can provide input on their needs and preferences. This will help gather data from a large number of users simultaneously.\n",
      "\n",
      "4. **Natural Language Processing (NLP) for Text Analysis**: Leverage NLP libraries such as NLTK, spaCy, or Stanford CoreNLP to analyze the collected text data and extract relevant information about the subject matter, student needs, and potential areas for improvement.\n",
      "\n",
      "5. **Knowledge Graph Construction**: Utilize knowledge graph construction techniques like entity recognition, sentiment analysis, and topic modeling to create a comprehensive understanding of the subject matter and its relationships.\n",
      "\n",
      "6. **Automated Requirements Analysis Tools**: Employ tools such as Lucidchart, Draw.io, or MindMeister to visually represent the gathered requirements in a structured format, making it easier to analyze and prioritize them.\n",
      "\n",
      "7. **Integration with AI-powered Chatbots Platforms**: Integrate the automated requirement analysis process with AI-powered chatbot platforms like Dialogflow, Rasa, or Botpress to leverage their capabilities for natural language understanding, intent identification, and entity extraction.\n",
      "\n",
      "8. **Continuous Monitoring and Feedback Loop**: Establish a continuous monitoring system that tracks user interactions, feedback, and performance metrics to identify areas for improvement and refine the bot's requirements over time.\n",
      "\n",
      "9. **Automated Reporting and Visualization Tools**: Utilize tools like Tableau, Power BI, or Google Data Studio to create interactive dashboards and reports that provide insights into the bot's performance, user engagement, and requirement satisfaction.\n",
      "\n",
      "10. **Machine Learning-based Requirements Analysis**: Employ machine learning algorithms such as clustering, decision trees, or neural networks to analyze the gathered requirements data and identify patterns, trends, and correlations that can inform the development of the Study Companion Bot.\n",
      "\n",
      "By automating these steps, you can streamline the requirement analysis process, reduce manual effort, and ensure that the Study Companion Bot meets the evolving needs of its users.\n",
      "Time taken: 28.415s\n"
     ]
    }
   ],
   "source": [
    "##\n",
    "## ZERO SHOT PROMPTING\n",
    "##\n",
    "\n",
    "from _pipeline import create_payload, model_req\n",
    "\n",
    "#### (1) Adjust the inbounding  Prompt, simulating inbounding requests from users or other systems\n",
    "MESSAGE = \"\"\"\n",
    "Consider yourself an automation expert in the field of software development. You are developing a Study Companion Bot, whose objective is to provide personalized tutoring assistance to students on a specific subject, through an Discord-based chatbot. The solution is a responsive chatbot that leverages natural language understanding and domain-specific knowledge to assist with Q&A, explanations, and study tips. It should be simple and based on engaging, entertaining and useful interactions (Request-Responses) with students about specific topics. It should have knowledge about the topic. It should be able to look for more information when needed.\n",
    "\n",
    "How would you automate the process of requirement analysis for the implementation of this solution?\n",
    "\"\"\"\n",
    "\n",
    "#### (2) Adjust the Prompt Engineering Technique to be applied, simulating Workflow Templates\n",
    "PROMPT = MESSAGE \n",
    "\n",
    "#### (3) Configure the Model request, simulating Workflow Orchestration\n",
    "# Documentation: https://github.com/ollama/ollama/blob/main/docs/api.md\n",
    "payload = create_payload(target=\"ollama\",\n",
    "                         model=\"llama3.2:latest\", \n",
    "                         prompt=PROMPT, \n",
    "                         temperature=0, \n",
    "                         num_ctx=8192, \n",
    "                         num_predict=8192)\n",
    "\n",
    "### YOU DONT NEED TO CONFIGURE ANYTHING ELSE FROM THIS POINT\n",
    "# Send out to the model\n",
    "time, response = model_req(payload=payload)\n",
    "print(response)\n",
    "if time: print(f'Time taken: {time}s')"
   ]
  },
  {
   "cell_type": "markdown",
   "metadata": {},
   "source": [
    "---\n",
    "\n",
    "## How to improve it?\n",
    "\n",
    "* **Use Clear and Concise Instructions**: Be specific about the task and desired format.\n",
    "    * Bad Prompt: “Summarize this.”\n",
    "    * Good Prompt: “Summarize this paragraph in one sentence.”\n",
    "* **Add Context**: Providing background can help the model interpret ambiguous prompts better.\n",
    "* **Specify Output Format**: If a particular structure is needed, describe it in the instruction."
   ]
  }
 ],
 "metadata": {
  "kernelspec": {
   "display_name": "conda_python3",
   "language": "python",
   "name": "conda_python3"
  },
  "language_info": {
   "codemirror_mode": {
    "name": "ipython",
    "version": 3
   },
   "file_extension": ".py",
   "mimetype": "text/x-python",
   "name": "python",
   "nbconvert_exporter": "python",
   "pygments_lexer": "ipython3",
   "version": "3.10.16"
  }
 },
 "nbformat": 4,
 "nbformat_minor": 2
}
