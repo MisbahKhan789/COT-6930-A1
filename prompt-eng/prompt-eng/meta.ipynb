{
 "cells": [
  {
   "cell_type": "markdown",
   "metadata": {},
   "source": [
    "\n",
    "\n"
   ]
  },
  {
   "cell_type": "markdown",
   "metadata": {},
   "source": [
    "# Meta Prompting\n",
    "\n",
    "Meta prompting is an advanced technique in prompt engineering that emphasizes the structural and syntactical organization of tasks and problems rather than focusing on their specific content. The objective is to create a more abstract, form-driven way of engaging with large language models (LLMs), highlighting patterns and structure over traditional content-focused methods.\n",
    "\n",
    "As outlined by [Zhang et al. (2024)](https://arxiv.org/abs/2311.11482), the defining features of meta prompting include:\n",
    "\n",
    "* Structure-Oriented: Prioritizes the organization and pattern of problems and solutions instead of specific content.\n",
    "* Syntax-Guided: Leverages syntax as a template to shape the expected responses or solutions.\n",
    "* Abstract Frameworks: Uses abstract examples as blueprints, demonstrating the structure of tasks without relying on concrete details.\n",
    "* Domain Versatility: Can be applied across multiple fields, offering structured solutions to diverse problem types.\n",
    "* Categorical Approach: Draws on type theory to organize and categorize components logically, enhancing prompt coherence and precision."
   ]
  },
  {
   "cell_type": "markdown",
   "metadata": {},
   "source": [
    "## Running this code on MyBind.org\n",
    "\n",
    "Note: remember that you will need to **adjust CONFIG** with **proper URL and API_KEY**!\n",
    "\n",
    "[![Binder](https://mybinder.org/badge_logo.svg)](https://mybinder.org/v2/gh/GenILab-FAU/prompt-eng/HEAD?urlpath=%2Fdoc%2Ftree%2Fprompt-eng%2Fmeta.ipynb)\n",
    "\n"
   ]
  },
  {
   "cell_type": "code",
   "execution_count": 2,
   "metadata": {},
   "outputs": [
    {
     "name": "stdout",
     "output_type": "stream",
     "text": [
      "To create an effective automation strategy for requirement analysis when implementing a Study Companion Bot for a Discord-based chatbot, I will outline the key elements that should be included in the strategy.\n",
      "\n",
      "**Elements of Effective Requirement Analysis Strategy:**\n",
      "\n",
      "1. **Clear Requirements Definition**: Define clear and concise requirements that are specific, measurable, achievable, relevant, and time-bound (SMART).\n",
      "2. **Stakeholder Involvement**: Involve all stakeholders in the requirement analysis process to ensure their needs and expectations are met.\n",
      "3. **Requirements Gathering**: Gather requirements through various methods such as interviews, surveys, user testing, and documentation review.\n",
      "4. **Requirements Prioritization**: Prioritize requirements based on business value, complexity, and risk.\n",
      "5. **Requirements Documentation**: Document all requirements in a clear and concise manner using standardized templates or tools.\n",
      "\n",
      "**Automation Streamlining:**\n",
      "\n",
      "1. **Automated Requirements Gathering Tools**: Utilize automated tools such as survey software, user testing platforms, and documentation analysis tools to streamline the requirements gathering process.\n",
      "2. **Natural Language Processing (NLP)**: Leverage NLP techniques to analyze and extract insights from unstructured data sources such as chat logs, emails, or social media posts.\n",
      "3. **Requirements Management Tools**: Utilize requirements management tools such as JIRA, Trello, or Asana to track and prioritize requirements in real-time.\n",
      "\n",
      "**Structured Steps, Tools, or Methodologies:**\n",
      "\n",
      "1. **Agile Requirements Gathering**: Use agile methodologies such as Scrum or Kanban to facilitate iterative and incremental requirement gathering.\n",
      "2. **Requirements Elicitation**: Utilize techniques such as role-playing, scenario planning, and user personas to elicit requirements from stakeholders.\n",
      "3. **Automated Requirements Analysis Tools**: Leverage automated tools such as code review tools, static analysis tools, or testing frameworks to analyze and validate requirements.\n",
      "\n",
      "**Detailed Plan for Automation:**\n",
      "\n",
      "To automate the process of requirement analysis for the Study Companion Bot, I propose the following plan:\n",
      "\n",
      "1. **Initial Requirements Gathering Phase**:\n",
      "\t* Utilize survey software (e.g., SurveyMonkey) to gather initial feedback from users.\n",
      "\t* Conduct user testing sessions using tools such as UserTesting or TryMyUI.\n",
      "\t* Review documentation related to the chatbot's functionality and features.\n",
      "2. **Automated Requirements Analysis Tools**:\n",
      "\t* Use code review tools (e.g., GitHub Code Review) to analyze and validate requirements for the chatbot's backend functionality.\n",
      "\t* Utilize static analysis tools (e.g., SonarQube) to identify potential issues with the chatbot's codebase.\n",
      "3. **Requirements Prioritization Phase**:\n",
      "\t* Use agile methodologies such as Scrum or Kanban to prioritize requirements based on business value, complexity, and risk.\n",
      "\t* Leverage requirements management tools (e.g., JIRA) to track and prioritize requirements in real-time.\n",
      "4. **Automated Requirements Documentation**:\n",
      "\t* Utilize documentation analysis tools (e.g., DocuWare) to analyze and extract insights from existing documentation related to the chatbot's functionality and features.\n",
      "\t* Leverage NLP techniques to analyze and generate automated documentation for new requirements.\n",
      "5. **Continuous Integration and Testing**:\n",
      "\t* Use testing frameworks (e.g., Jest or Pytest) to automate unit testing and integration testing for the chatbot's backend functionality.\n",
      "\t* Utilize continuous integration tools (e.g., Jenkins or Travis CI) to automate the build, test, and deployment process.\n",
      "\n",
      "By incorporating these elements, tools, and methodologies into the requirement analysis strategy, we can streamline the process, reduce manual effort, and ensure that all requirements are thoroughly analyzed and documented.\n",
      "Time taken: 60.178s\n"
     ]
    }
   ],
   "source": [
    "##\n",
    "## META PROMPTING\n",
    "##\n",
    "\n",
    "from _pipeline import create_payload, model_req\n",
    "\n",
    "#### (1) Adjust the inbounding  Prompt, simulating inbounding requests from users or other systems\n",
    "MESSAGE = \"\"\"\n",
    "Consider yourself an automation expert in software development. Your task is to create a highly effective automation strategy for requirement analysis when implementing a Study Companion Bot for a Discord-based chatbot.\n",
    "\n",
    "Before answering the question, think about the best way to structure your response to ensure clarity, coverage, and practicality. What elements should an effective requirement analysis strategy include? How can automation streamline this process? What kinds of structured steps, tools, or methodologies should be incorporated?\n",
    "\n",
    "Now, based on your reflection, provide a detailed plan on how you would automate the process of requirement analysis for this chatbot solution.\"\"\"\n",
    "\n",
    "#### (2) Adjust the Prompt Engineering Technique to be applied, simulating Workflow Templates\n",
    "\n",
    "# @TODO TO BE COMPLETED\n",
    "PROMPT = MESSAGE \n",
    "\n",
    "#### (3) Configure the Model request, simulating Workflow Orchestration\n",
    "# Documentation: https://github.com/ollama/ollama/blob/main/docs/api.md\n",
    "payload = create_payload(target=\"ollama\",\n",
    "                         model=\"llama3.2:latest\", \n",
    "                         prompt=PROMPT, \n",
    "                         temperature=0, \n",
    "                         num_ctx=8192, \n",
    "                         num_predict=8192)\n",
    "\n",
    "### YOU DONT NEED TO CONFIGURE ANYTHING ELSE FROM THIS POINT\n",
    "# Send out to the model\n",
    "time, response = model_req(payload=payload)\n",
    "print(response)\n",
    "if time: print(f'Time taken: {time}s')"
   ]
  },
  {
   "cell_type": "code",
   "execution_count": null,
   "metadata": {},
   "outputs": [],
   "source": []
  }
 ],
 "metadata": {
  "kernelspec": {
   "display_name": "conda_python3",
   "language": "python",
   "name": "conda_python3"
  },
  "language_info": {
   "codemirror_mode": {
    "name": "ipython",
    "version": 3
   },
   "file_extension": ".py",
   "mimetype": "text/x-python",
   "name": "python",
   "nbconvert_exporter": "python",
   "pygments_lexer": "ipython3",
   "version": "3.10.16"
  }
 },
 "nbformat": 4,
 "nbformat_minor": 2
}
